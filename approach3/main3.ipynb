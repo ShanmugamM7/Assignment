{
 "cells": [
  {
   "cell_type": "code",
   "execution_count": null,
   "metadata": {},
   "outputs": [],
   "source": [
    "import cv2 as cv\n",
    "import numpy as np\n",
    "import os\n",
    "import matplotlib.pyplot as plt\n",
    "\n",
    "def bounding_box(image):\n",
    "    # Convert the image to grayscale\n",
    "    gray_image = cv.cvtColor(image, cv.COLOR_BGR2GRAY)\n",
    "\n",
    "    # Apply Gaussian blur and thresholding\n",
    "    blurred_image = cv.GaussianBlur(gray_image, (5, 5), 0)\n",
    "    _, thresholded_image = cv.threshold(blurred_image, 127, 255, cv.THRESH_BINARY)\n",
    "\n",
    "    # Find contours\n",
    "    contours, _ = cv.findContours(thresholded_image, cv.RETR_EXTERNAL, cv.CHAIN_APPROX_SIMPLE)\n",
    "    if contours:\n",
    "        largest_contour = max(contours, key=cv.contourArea)  # Largest contour\n",
    "        M = cv.moments(largest_contour)\n",
    "        centroid_x = int(M[\"m10\"] / M[\"m00\"])\n",
    "        centroid_y = int(M[\"m01\"] / M[\"m00\"])\n",
    "        x, y, w, h = cv.boundingRect(largest_contour)\n",
    "\n",
    "    shift_percent = 0.6\n",
    "    new_center_x = centroid_x\n",
    "    new_center_y = int(centroid_y + (h * shift_percent))  \n",
    "    center = (new_center_x, new_center_y)\n",
    "    major_axis = h\n",
    "    minor_axis = w\n",
    "\n",
    "    rectangle_height = major_axis  \n",
    "    rectangle_width = int(rectangle_height * 4 / 5)\n",
    "    x1 = center[0] - rectangle_width // 2\n",
    "    y1 = center[1] - rectangle_height // 2\n",
    "    x2 = center[0] + rectangle_width // 2\n",
    "    y2 = center[1] + rectangle_height // 2\n",
    "\n",
    "    # Draw the rectangle\n",
    "    cv.rectangle(image, (x1, y1), (x2, y2), (0, 255, 0), thickness=6)\n",
    "    return image\n",
    "\n",
    "# Load the image\n",
    "image = cv.imread('IMG_0852.JPG')  # Replace with your image file path\n",
    "result_image = bounding_box(image)\n",
    "plt.figure(figsize=[22, 22])\n",
    "plt.subplot(1, 2, 1)\n",
    "plt.title('original')\n",
    "plt.axis('off')\n",
    "plt.imshow(image[:, :, ::-1])\n",
    "plt.show()\n",
    "\n",
    "\n",
    "        \n"
   ]
  },
  {
   "cell_type": "code",
   "execution_count": null,
   "metadata": {},
   "outputs": [],
   "source": []
  }
 ],
 "metadata": {
  "kernelspec": {
   "display_name": "mpenv",
   "language": "python",
   "name": "python3"
  },
  "language_info": {
   "codemirror_mode": {
    "name": "ipython",
    "version": 3
   },
   "file_extension": ".py",
   "mimetype": "text/x-python",
   "name": "python",
   "nbconvert_exporter": "python",
   "pygments_lexer": "ipython3",
   "version": "3.8.10"
  },
  "orig_nbformat": 4
 },
 "nbformat": 4,
 "nbformat_minor": 2
}
