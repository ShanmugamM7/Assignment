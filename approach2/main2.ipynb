{
 "cells": [
  {
   "cell_type": "code",
   "execution_count": null,
   "metadata": {},
   "outputs": [],
   "source": [
    "import os\n",
    "import cv2 as cv\n",
    "import numpy as np\n",
    "import mediapipe as mp\n",
    "import matplotlib.pyplot as plt\n",
    "\n",
    "def bounding_box(image):\n",
    "    mp_selfie_segmentation = mp.solutions.selfie_segmentation\n",
    "    segment = mp_selfie_segmentation.SelfieSegmentation()\n",
    "\n",
    "    result = segment.process(cv.cvtColor(image, cv.COLOR_BGR2RGB))\n",
    "    mask = result.segmentation_mask > 0.2\n",
    "\n",
    "    # Finding contours\n",
    "    contours, _ = cv.findContours(mask.astype(np.uint8), cv.RETR_EXTERNAL, cv.CHAIN_APPROX_SIMPLE)\n",
    "\n",
    "    if contours:\n",
    "        largest_contour = max(contours, key=cv.contourArea)  \n",
    "        x, y, w, h = cv.boundingRect(largest_contour)\n",
    "        y -= 150\n",
    "        mid_x = x + w // 2\n",
    "        mid_y = y + h // 2 \n",
    "        proportion = 0.80\n",
    "        if w / h > proportion:\n",
    "            new_h = int(w / proportion)\n",
    "            y = mid_y - new_h // 2\n",
    "            h = new_h\n",
    "        else:\n",
    "            new_w = int(h * proportion)\n",
    "            x = mid_x - new_w // 2\n",
    "            w = new_w\n",
    "        cv.rectangle(image, (x, y), (x + w, y + h), (0, 255, 0), 10)\n",
    "\n",
    "        return image\n",
    "\n",
    "# Loading images\n",
    "image_path = 'IMG_0842.JPG'    # give the image path here\n",
    "image = cv.imread(image_path)\n",
    "result_image = bounding_box(image)\n",
    "\n",
    "plt.figure(figsize=[22, 22])\n",
    "plt.subplot(1, 2, 1)\n",
    "plt.title('original')\n",
    "plt.axis('off')\n",
    "plt.imshow(image[:, :, ::-1])\n",
    "plt.show()"
   ]
  },
  {
   "cell_type": "code",
   "execution_count": null,
   "metadata": {},
   "outputs": [],
   "source": []
  }
 ],
 "metadata": {
  "kernelspec": {
   "display_name": "mpenv",
   "language": "python",
   "name": "python3"
  },
  "language_info": {
   "codemirror_mode": {
    "name": "ipython",
    "version": 3
   },
   "file_extension": ".py",
   "mimetype": "text/x-python",
   "name": "python",
   "nbconvert_exporter": "python",
   "pygments_lexer": "ipython3",
   "version": "3.8.10"
  },
  "orig_nbformat": 4
 },
 "nbformat": 4,
 "nbformat_minor": 2
}
